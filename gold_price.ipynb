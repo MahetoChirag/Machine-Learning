{
 "cells": [
  {
   "cell_type": "code",
   "execution_count": 1,
   "id": "infinite-narrative",
   "metadata": {},
   "outputs": [],
   "source": [
    "import numpy as np\n",
    "import pandas as pd\n",
    "import matplotlib.pyplot as plt\n",
    "import seaborn as sns\n",
    "from sklearn.model_selection import train_test_split\n",
    "from sklearn.ensemble import RandomForestRegressor\n",
    "from sklearn import metrics"
   ]
  },
  {
   "cell_type": "code",
   "execution_count": 2,
   "id": "trained-violin",
   "metadata": {},
   "outputs": [],
   "source": [
    "gold=pd.read_csv(\"D:/datasets/gld_price_data.csv\")"
   ]
  },
  {
   "cell_type": "code",
   "execution_count": 3,
   "id": "caroline-victory",
   "metadata": {},
   "outputs": [
    {
     "data": {
      "text/html": [
       "<div>\n",
       "<style scoped>\n",
       "    .dataframe tbody tr th:only-of-type {\n",
       "        vertical-align: middle;\n",
       "    }\n",
       "\n",
       "    .dataframe tbody tr th {\n",
       "        vertical-align: top;\n",
       "    }\n",
       "\n",
       "    .dataframe thead th {\n",
       "        text-align: right;\n",
       "    }\n",
       "</style>\n",
       "<table border=\"1\" class=\"dataframe\">\n",
       "  <thead>\n",
       "    <tr style=\"text-align: right;\">\n",
       "      <th></th>\n",
       "      <th>Date</th>\n",
       "      <th>SPX</th>\n",
       "      <th>GLD</th>\n",
       "      <th>USO</th>\n",
       "      <th>SLV</th>\n",
       "      <th>EUR/USD</th>\n",
       "    </tr>\n",
       "  </thead>\n",
       "  <tbody>\n",
       "    <tr>\n",
       "      <th>0</th>\n",
       "      <td>1/2/2008</td>\n",
       "      <td>1447.160034</td>\n",
       "      <td>84.860001</td>\n",
       "      <td>78.470001</td>\n",
       "      <td>15.180</td>\n",
       "      <td>1.471692</td>\n",
       "    </tr>\n",
       "    <tr>\n",
       "      <th>1</th>\n",
       "      <td>1/3/2008</td>\n",
       "      <td>1447.160034</td>\n",
       "      <td>85.570000</td>\n",
       "      <td>78.370003</td>\n",
       "      <td>15.285</td>\n",
       "      <td>1.474491</td>\n",
       "    </tr>\n",
       "    <tr>\n",
       "      <th>2</th>\n",
       "      <td>1/4/2008</td>\n",
       "      <td>1411.630005</td>\n",
       "      <td>85.129997</td>\n",
       "      <td>77.309998</td>\n",
       "      <td>15.167</td>\n",
       "      <td>1.475492</td>\n",
       "    </tr>\n",
       "    <tr>\n",
       "      <th>3</th>\n",
       "      <td>1/7/2008</td>\n",
       "      <td>1416.180054</td>\n",
       "      <td>84.769997</td>\n",
       "      <td>75.500000</td>\n",
       "      <td>15.053</td>\n",
       "      <td>1.468299</td>\n",
       "    </tr>\n",
       "    <tr>\n",
       "      <th>4</th>\n",
       "      <td>1/8/2008</td>\n",
       "      <td>1390.189941</td>\n",
       "      <td>86.779999</td>\n",
       "      <td>76.059998</td>\n",
       "      <td>15.590</td>\n",
       "      <td>1.557099</td>\n",
       "    </tr>\n",
       "  </tbody>\n",
       "</table>\n",
       "</div>"
      ],
      "text/plain": [
       "       Date          SPX        GLD        USO     SLV   EUR/USD\n",
       "0  1/2/2008  1447.160034  84.860001  78.470001  15.180  1.471692\n",
       "1  1/3/2008  1447.160034  85.570000  78.370003  15.285  1.474491\n",
       "2  1/4/2008  1411.630005  85.129997  77.309998  15.167  1.475492\n",
       "3  1/7/2008  1416.180054  84.769997  75.500000  15.053  1.468299\n",
       "4  1/8/2008  1390.189941  86.779999  76.059998  15.590  1.557099"
      ]
     },
     "execution_count": 3,
     "metadata": {},
     "output_type": "execute_result"
    }
   ],
   "source": [
    "gold.head()"
   ]
  },
  {
   "cell_type": "code",
   "execution_count": 4,
   "id": "honey-allocation",
   "metadata": {},
   "outputs": [
    {
     "data": {
      "text/plain": [
       "(2290, 6)"
      ]
     },
     "execution_count": 4,
     "metadata": {},
     "output_type": "execute_result"
    }
   ],
   "source": [
    "gold.shape"
   ]
  },
  {
   "cell_type": "code",
   "execution_count": 5,
   "id": "fabulous-switch",
   "metadata": {},
   "outputs": [
    {
     "data": {
      "text/html": [
       "<div>\n",
       "<style scoped>\n",
       "    .dataframe tbody tr th:only-of-type {\n",
       "        vertical-align: middle;\n",
       "    }\n",
       "\n",
       "    .dataframe tbody tr th {\n",
       "        vertical-align: top;\n",
       "    }\n",
       "\n",
       "    .dataframe thead th {\n",
       "        text-align: right;\n",
       "    }\n",
       "</style>\n",
       "<table border=\"1\" class=\"dataframe\">\n",
       "  <thead>\n",
       "    <tr style=\"text-align: right;\">\n",
       "      <th></th>\n",
       "      <th>SPX</th>\n",
       "      <th>GLD</th>\n",
       "      <th>USO</th>\n",
       "      <th>SLV</th>\n",
       "      <th>EUR/USD</th>\n",
       "    </tr>\n",
       "  </thead>\n",
       "  <tbody>\n",
       "    <tr>\n",
       "      <th>count</th>\n",
       "      <td>2290.000000</td>\n",
       "      <td>2290.000000</td>\n",
       "      <td>2290.000000</td>\n",
       "      <td>2290.000000</td>\n",
       "      <td>2290.000000</td>\n",
       "    </tr>\n",
       "    <tr>\n",
       "      <th>mean</th>\n",
       "      <td>1654.315776</td>\n",
       "      <td>122.732875</td>\n",
       "      <td>31.842221</td>\n",
       "      <td>20.084997</td>\n",
       "      <td>1.283653</td>\n",
       "    </tr>\n",
       "    <tr>\n",
       "      <th>std</th>\n",
       "      <td>519.111540</td>\n",
       "      <td>23.283346</td>\n",
       "      <td>19.523517</td>\n",
       "      <td>7.092566</td>\n",
       "      <td>0.131547</td>\n",
       "    </tr>\n",
       "    <tr>\n",
       "      <th>min</th>\n",
       "      <td>676.530029</td>\n",
       "      <td>70.000000</td>\n",
       "      <td>7.960000</td>\n",
       "      <td>8.850000</td>\n",
       "      <td>1.039047</td>\n",
       "    </tr>\n",
       "    <tr>\n",
       "      <th>25%</th>\n",
       "      <td>1239.874969</td>\n",
       "      <td>109.725000</td>\n",
       "      <td>14.380000</td>\n",
       "      <td>15.570000</td>\n",
       "      <td>1.171313</td>\n",
       "    </tr>\n",
       "    <tr>\n",
       "      <th>50%</th>\n",
       "      <td>1551.434998</td>\n",
       "      <td>120.580002</td>\n",
       "      <td>33.869999</td>\n",
       "      <td>17.268500</td>\n",
       "      <td>1.303297</td>\n",
       "    </tr>\n",
       "    <tr>\n",
       "      <th>75%</th>\n",
       "      <td>2073.010070</td>\n",
       "      <td>132.840004</td>\n",
       "      <td>37.827501</td>\n",
       "      <td>22.882500</td>\n",
       "      <td>1.369971</td>\n",
       "    </tr>\n",
       "    <tr>\n",
       "      <th>max</th>\n",
       "      <td>2872.870117</td>\n",
       "      <td>184.589996</td>\n",
       "      <td>117.480003</td>\n",
       "      <td>47.259998</td>\n",
       "      <td>1.598798</td>\n",
       "    </tr>\n",
       "  </tbody>\n",
       "</table>\n",
       "</div>"
      ],
      "text/plain": [
       "               SPX          GLD          USO          SLV      EUR/USD\n",
       "count  2290.000000  2290.000000  2290.000000  2290.000000  2290.000000\n",
       "mean   1654.315776   122.732875    31.842221    20.084997     1.283653\n",
       "std     519.111540    23.283346    19.523517     7.092566     0.131547\n",
       "min     676.530029    70.000000     7.960000     8.850000     1.039047\n",
       "25%    1239.874969   109.725000    14.380000    15.570000     1.171313\n",
       "50%    1551.434998   120.580002    33.869999    17.268500     1.303297\n",
       "75%    2073.010070   132.840004    37.827501    22.882500     1.369971\n",
       "max    2872.870117   184.589996   117.480003    47.259998     1.598798"
      ]
     },
     "execution_count": 5,
     "metadata": {},
     "output_type": "execute_result"
    }
   ],
   "source": [
    "gold.describe()"
   ]
  },
  {
   "cell_type": "code",
   "execution_count": 6,
   "id": "legal-constraint",
   "metadata": {},
   "outputs": [
    {
     "name": "stdout",
     "output_type": "stream",
     "text": [
      "<class 'pandas.core.frame.DataFrame'>\n",
      "RangeIndex: 2290 entries, 0 to 2289\n",
      "Data columns (total 6 columns):\n",
      " #   Column   Non-Null Count  Dtype  \n",
      "---  ------   --------------  -----  \n",
      " 0   Date     2290 non-null   object \n",
      " 1   SPX      2290 non-null   float64\n",
      " 2   GLD      2290 non-null   float64\n",
      " 3   USO      2290 non-null   float64\n",
      " 4   SLV      2290 non-null   float64\n",
      " 5   EUR/USD  2290 non-null   float64\n",
      "dtypes: float64(5), object(1)\n",
      "memory usage: 107.5+ KB\n"
     ]
    }
   ],
   "source": [
    "gold.info()"
   ]
  },
  {
   "cell_type": "code",
   "execution_count": 7,
   "id": "pacific-aurora",
   "metadata": {},
   "outputs": [
    {
     "data": {
      "text/plain": [
       "Date       0\n",
       "SPX        0\n",
       "GLD        0\n",
       "USO        0\n",
       "SLV        0\n",
       "EUR/USD    0\n",
       "dtype: int64"
      ]
     },
     "execution_count": 7,
     "metadata": {},
     "output_type": "execute_result"
    }
   ],
   "source": [
    "gold.isnull().sum()"
   ]
  },
  {
   "cell_type": "code",
   "execution_count": 8,
   "id": "greenhouse-tomato",
   "metadata": {},
   "outputs": [],
   "source": [
    "correlation=gold.corr()"
   ]
  },
  {
   "cell_type": "code",
   "execution_count": 10,
   "id": "engaged-grove",
   "metadata": {},
   "outputs": [
    {
     "data": {
      "text/plain": [
       "<AxesSubplot:>"
      ]
     },
     "execution_count": 10,
     "metadata": {},
     "output_type": "execute_result"
    },
    {
     "data": {
      "image/png": "[encoded data removed]",
      "text/plain": [
       "<Figure size 720x720 with 2 Axes>"
      ]
     },
     "metadata": {
      "needs_background": "light"
     },
     "output_type": "display_data"
    }
   ],
   "source": [
    "plt.figure(figsize=(10,10))\n",
    "sns.heatmap(correlation,cbar=True,square=True,fmt='.1f',annot=True,annot_kws={'size':8},cmap='Reds')"
   ]
  },
  {
   "cell_type": "code",
   "execution_count": 13,
   "id": "advanced-relations",
   "metadata": {},
   "outputs": [
    {
     "name": "stdout",
     "output_type": "stream",
     "text": [
      "SPX        0.049345\n",
      "GLD        1.000000\n",
      "USO       -0.186360\n",
      "SLV        0.866632\n",
      "EUR/USD   -0.024375\n",
      "Name: GLD, dtype: float64\n"
     ]
    }
   ],
   "source": [
    "print(correlation['GLD'])"
   ]
  },
  {
   "cell_type": "code",
   "execution_count": 20,
   "id": "veterinary-pitch",
   "metadata": {},
   "outputs": [
    {
     "data": {
      "text/plain": [
       "(array([ 55., 232., 155., 383., 738., 257.,  73., 209., 161.,  27.]),\n",
       " array([ 70.       ,  81.4589996,  92.9179992, 104.3769988, 115.8359984,\n",
       "        127.294998 , 138.7539976, 150.2129972, 161.6719968, 173.1309964,\n",
       "        184.589996 ]),\n",
       " <BarContainer object of 10 artists>)"
      ]
     },
     "execution_count": 20,
     "metadata": {},
     "output_type": "execute_result"
    },
    {
     "data": {
      "image/png": "[encoded data removed]",
      "text/plain": [
       "<Figure size 432x288 with 1 Axes>"
      ]
     },
     "metadata": {
      "needs_background": "light"
     },
     "output_type": "display_data"
    }
   ],
   "source": [
    "plt.hist(gold['GLD'])"
   ]
  },
  {
   "cell_type": "code",
   "execution_count": 15,
   "id": "adaptive-crest",
   "metadata": {},
   "outputs": [
    {
     "name": "stderr",
     "output_type": "stream",
     "text": [
      "c:\\python39\\lib\\site-packages\\seaborn\\distributions.py:2619: FutureWarning: `distplot` is a deprecated function and will be removed in a future version. Please adapt your code to use either `displot` (a figure-level function with similar flexibility) or `histplot` (an axes-level function for histograms).\n",
      "  warnings.warn(msg, FutureWarning)\n"
     ]
    },
    {
     "data": {
      "text/plain": [
       "<AxesSubplot:xlabel='GLD', ylabel='Density'>"
      ]
     },
     "execution_count": 15,
     "metadata": {},
     "output_type": "execute_result"
    },
    {
     "data": {
      "image/png": "[encoded data removed]",
      "text/plain": [
       "<Figure size 432x288 with 1 Axes>"
      ]
     },
     "metadata": {
      "needs_background": "light"
     },
     "output_type": "display_data"
    }
   ],
   "source": [
    "sns.distplot(gold['GLD'],color='blue')"
   ]
  },
  {
   "cell_type": "code",
   "execution_count": 16,
   "id": "classified-venezuela",
   "metadata": {},
   "outputs": [],
   "source": [
    "X=gold.drop(['Date','GLD'],axis=1)\n",
    "Y=gold['GLD']"
   ]
  },
  {
   "cell_type": "code",
   "execution_count": 17,
   "id": "exact-expression",
   "metadata": {},
   "outputs": [
    {
     "name": "stdout",
     "output_type": "stream",
     "text": [
      "              SPX        USO      SLV   EUR/USD\n",
      "0     1447.160034  78.470001  15.1800  1.471692\n",
      "1     1447.160034  78.370003  15.2850  1.474491\n",
      "2     1411.630005  77.309998  15.1670  1.475492\n",
      "3     1416.180054  75.500000  15.0530  1.468299\n",
      "4     1390.189941  76.059998  15.5900  1.557099\n",
      "...           ...        ...      ...       ...\n",
      "2285  2671.919922  14.060000  15.5100  1.186789\n",
      "2286  2697.790039  14.370000  15.5300  1.184722\n",
      "2287  2723.070068  14.410000  15.7400  1.191753\n",
      "2288  2730.129883  14.380000  15.5600  1.193118\n",
      "2289  2725.780029  14.405800  15.4542  1.182033\n",
      "\n",
      "[2290 rows x 4 columns]\n"
     ]
    }
   ],
   "source": [
    "print(X)"
   ]
  },
  {
   "cell_type": "code",
   "execution_count": 18,
   "id": "extended-migration",
   "metadata": {},
   "outputs": [
    {
     "name": "stdout",
     "output_type": "stream",
     "text": [
      "0        84.860001\n",
      "1        85.570000\n",
      "2        85.129997\n",
      "3        84.769997\n",
      "4        86.779999\n",
      "           ...    \n",
      "2285    124.589996\n",
      "2286    124.330002\n",
      "2287    125.180000\n",
      "2288    124.489998\n",
      "2289    122.543800\n",
      "Name: GLD, Length: 2290, dtype: float64\n"
     ]
    }
   ],
   "source": [
    "print(Y)"
   ]
  },
  {
   "cell_type": "code",
   "execution_count": 21,
   "id": "spoken-lloyd",
   "metadata": {},
   "outputs": [],
   "source": [
    "X_train,X_test,Y_train,Y_test=train_test_split(X,Y,test_size=0.2,random_state=2)"
   ]
  },
  {
   "cell_type": "code",
   "execution_count": 22,
   "id": "prospective-cartoon",
   "metadata": {},
   "outputs": [
    {
     "data": {
      "text/plain": [
       "(1832, 4)"
      ]
     },
     "execution_count": 22,
     "metadata": {},
     "output_type": "execute_result"
    }
   ],
   "source": [
    "X_train.shape"
   ]
  },
  {
   "cell_type": "code",
   "execution_count": 23,
   "id": "confident-modem",
   "metadata": {},
   "outputs": [
    {
     "data": {
      "text/plain": [
       "(458, 4)"
      ]
     },
     "execution_count": 23,
     "metadata": {},
     "output_type": "execute_result"
    }
   ],
   "source": [
    "X_test.shape"
   ]
  },
  {
   "cell_type": "code",
   "execution_count": 24,
   "id": "spiritual-eight",
   "metadata": {},
   "outputs": [],
   "source": [
    "reg=RandomForestRegressor(n_estimators=100)"
   ]
  },
  {
   "cell_type": "code",
   "execution_count": 25,
   "id": "christian-beverage",
   "metadata": {},
   "outputs": [
    {
     "data": {
      "text/plain": [
       "RandomForestRegressor()"
      ]
     },
     "execution_count": 25,
     "metadata": {},
     "output_type": "execute_result"
    }
   ],
   "source": [
    "reg.fit(X_train,Y_train)"
   ]
  },
  {
   "cell_type": "code",
   "execution_count": 27,
   "id": "ignored-houston",
   "metadata": {},
   "outputs": [],
   "source": [
    "test_prediction=(reg.predict(X_test))"
   ]
  },
  {
   "cell_type": "code",
   "execution_count": 28,
   "id": "tamil-estate",
   "metadata": {},
   "outputs": [
    {
     "name": "stdout",
     "output_type": "stream",
     "text": [
      "[168.66369907  82.15789987 115.81290028 127.53400067 120.75710127\n",
      " 154.83309785 150.32029825 126.01360035 117.39069873 126.06830033\n",
      " 116.77100092 172.21690059 141.48939837 167.86969846 115.19940027\n",
      " 117.83500049 139.48000314 170.07260078 159.72990347 156.37639925\n",
      " 155.05239998 125.03680004 176.13679985 157.15540407 125.11440075\n",
      "  93.96500008  77.19740034 120.76519981 119.04819935 167.45989986\n",
      "  88.15080077 125.05439975  90.95190047 117.8527     121.09199928\n",
      " 137.10490054 115.48500115 115.11770097 147.53019962 107.22500066\n",
      " 104.5192022   87.29139793 126.44200072 117.82210003 152.95859912\n",
      " 119.72349973 108.45969993 108.09219834  93.21780054 127.1947974\n",
      "  74.6492006  113.7008992  121.43690036 111.13179926 119.00249907\n",
      " 120.48619944 159.43149881 168.03070129 146.80799681  85.84559862\n",
      "  94.37220051  86.9162992   90.40150048 118.99830053 126.45340067\n",
      " 127.41630006 168.60810052 122.33579933 117.44339913  98.61150035\n",
      " 168.49660144 143.04999839 132.30340225 121.21320225 120.68479919\n",
      " 119.6575005  114.5387015  118.04800074 107.41320074 127.88750089\n",
      " 113.89989978 106.90129993 116.88470048 119.76439861  88.94689999\n",
      "  88.23399861 146.24420243 127.04189984 113.32910031 110.60469839\n",
      " 108.23609918  77.73519926 169.66200163 113.9905991  121.63579893\n",
      " 127.94590199 155.01539815  91.71079943 135.20840091 158.88630308\n",
      " 125.56940057 125.23380047 130.70960132 114.89530125 119.83620011\n",
      "  92.11789977 110.1783988  166.34989998 157.72269913 114.04599939\n",
      " 106.44540131  79.77539959 113.23970031 125.86400087 107.44909951\n",
      " 119.376201   156.09890352 159.78829826 120.05060012 134.43900373\n",
      " 101.37780003 117.58739825 119.31210044 112.81340065 102.77019917\n",
      " 160.12649766  98.71780032 146.77169942 125.65560081 169.86819887\n",
      " 125.93229847 127.40119721 127.20360156 113.70029955 112.42100079\n",
      " 123.63579896 102.29929914  89.32469991 124.13929963 101.94859947\n",
      " 106.64159911 113.47080056 117.54000053  98.90559904 121.88140027\n",
      " 163.11089882  87.5906988  106.73249965 117.11960091 127.71110169\n",
      " 124.04420083  80.61709935 120.04390055 157.43309786  87.82979957\n",
      " 110.38859975 119.01819921 172.47939901 102.92779891 105.76490004\n",
      " 122.5296002  157.84299757  87.53579839  93.12570047 112.83570051\n",
      " 177.34900013 114.36829974 119.41250007  94.69360093 125.69410015\n",
      " 166.36640102 114.63140054 116.6565012   88.31229868 148.71640061\n",
      " 120.20509984  89.69040014 112.57289996 117.16980042 118.72960106\n",
      "  88.08239917  94.2400002  117.13480007 118.47360178 120.21040044\n",
      " 126.9730978  121.86439975 148.20220015 165.39600127 118.52499935\n",
      " 120.2245013  150.99920041 118.19219916 173.05169899 105.5895994\n",
      " 104.97390108 149.36350066 113.73800077 124.90560112 146.89130053\n",
      " 119.69420112 115.39070074 112.65979979 113.48060195 142.44760137\n",
      " 117.94489762 102.97850032 115.92650094 103.88050175  98.66860027\n",
      " 117.58490091  90.45300017  91.50150032 153.44169883 102.6969999\n",
      " 154.63880135 114.35840145 138.6560008   90.1412985  115.46469924\n",
      " 114.20139941 123.09030011 121.77410041 165.46160108  92.90559941\n",
      " 135.55470155 121.34499942 120.7247008  104.43620015 143.92200298\n",
      " 121.42369907 116.72500052 113.51130088 127.45299717 122.64659943\n",
      " 125.75429959 121.19790059  86.82189932 132.6739014  144.42530165\n",
      "  92.68899955 157.47230094 159.11400296 126.36289928 165.3539001\n",
      " 108.78029968 110.00350105 103.55499818  94.32150059 127.69060258\n",
      " 107.05470079 160.65910117 121.79300029 132.01680088 130.77840184\n",
      " 160.21749923  90.28269901 175.71800163 127.68690034 126.93359792\n",
      "  86.35789881 124.56679936 150.32329782  89.70710033 106.89159953\n",
      " 108.91080002  83.70739904 136.08389929 155.15520218 140.13880346\n",
      "  74.23100024 152.52310065 125.64749981 126.8060995  127.52419897\n",
      " 108.45529929 156.33409967 114.52490101 117.0446014  125.31559929\n",
      " 153.95550105 121.25900015 156.4180985   92.97210043 125.44510137\n",
      " 125.45160029  87.71890041  92.18739924 126.42359861 128.08190328\n",
      " 113.10500052 117.5454973  120.81950018 127.37539785 119.45240097\n",
      " 137.17679962  93.96519936 120.14610043 112.77940114  94.28139963\n",
      " 108.81289962  87.7275991  108.84409918  89.50820001  92.40400033\n",
      " 131.44370318 162.21830012  89.16910055 119.47000123 133.23500164\n",
      " 123.86910016 128.46010193 102.00889854  89.0309987  131.95380027\n",
      " 119.64940044 108.95230004 166.76700092 115.1840999   86.5741988\n",
      " 118.75880058  91.10059934 161.76750037 116.65500051 121.26670008\n",
      " 160.24799814 120.1401993  112.65449944 108.35559867 126.50650029\n",
      "  76.17260012 103.02199984 127.78180279 121.84809928  92.63700016\n",
      " 131.95100092 118.13570144 115.89199997 154.31860268 158.80610093\n",
      " 110.32329942 152.86659813 119.32900096 160.45890075 118.46990006\n",
      " 158.32579947 115.12029938 116.65990025 148.67779921 114.96070056\n",
      " 125.44949917 164.53869967 117.81519989 124.95299931 153.27520377\n",
      " 153.2834033  132.34010078 114.87140041 121.35330177 125.08310056\n",
      "  89.73840072 123.18819976 155.11400193 111.77940034 106.70399985\n",
      " 160.99580005 118.67880029 165.54599957 134.05710115 114.84679937\n",
      " 153.00589884 168.76259965 114.8232003  113.98110144 159.47109853\n",
      "  85.41289866 127.22800038 127.79200039 128.89250001 124.27260044\n",
      " 123.88450102  90.61160069 153.14040049  97.03339955 138.52809955\n",
      "  89.13079958 106.87939998 114.91570028 112.77280064 124.38259926\n",
      "  91.3865989  125.42230155 162.33719832 119.90229894 165.27260072\n",
      " 126.9526978  112.38920017 127.4969992   95.41319934  91.15030001\n",
      " 103.132599   120.83029992  83.14039943 126.13530008 160.63190397\n",
      " 117.12770089 118.42389969 119.91469987 122.68370002 119.97490157\n",
      " 121.51800018 118.37340025 106.75200018 148.06619942 126.33949839\n",
      " 115.77120099  74.00829984 127.76710133 154.52070092 122.43180005\n",
      " 125.62130065  88.83260002 103.39799844 124.87810081 120.27260035\n",
      "  73.5230007  151.66569991 121.24790049 104.64239981  86.42969792\n",
      " 115.05149866 172.25399829 119.56700029 159.90029862 113.2354994\n",
      " 121.06060044 118.4818014   95.80639981 118.92820047 125.69310014\n",
      " 118.51619944  96.1384008  153.49160195 121.73460007 147.32630017\n",
      " 159.44880167 113.81090022 122.54169946 149.76059779 126.95110054\n",
      " 165.71470093 136.55060092 120.15829948 167.76319882 108.38999932\n",
      " 121.66959855 139.56810079 106.89709895]\n"
     ]
    }
   ],
   "source": [
    "print(test_prediction)"
   ]
  },
  {
   "cell_type": "code",
   "execution_count": 29,
   "id": "addressed-organ",
   "metadata": {},
   "outputs": [],
   "source": [
    "error=metrics.r2_score(Y_test,test_prediction)"
   ]
  },
  {
   "cell_type": "code",
   "execution_count": 30,
   "id": "whole-squad",
   "metadata": {},
   "outputs": [
    {
     "name": "stdout",
     "output_type": "stream",
     "text": [
      "0.9891217455450636\n"
     ]
    }
   ],
   "source": [
    "print(error)"
   ]
  },
  {
   "cell_type": "code",
   "execution_count": 31,
   "id": "accessory-stereo",
   "metadata": {},
   "outputs": [],
   "source": [
    "Y_test=list(Y_test)"
   ]
  },
  {
   "cell_type": "code",
   "execution_count": 36,
   "id": "moderate-robertson",
   "metadata": {},
   "outputs": [
    {
     "data": {
      "image/png": "[encoded data removed]",
      "text/plain": [
       "<Figure size 432x288 with 1 Axes>"
      ]
     },
     "metadata": {
      "needs_background": "light"
     },
     "output_type": "display_data"
    }
   ],
   "source": [
    "plt.plot(Y_test,color='blue',label='Actual Value')\n",
    "plt.plot(test_prediction,color='red',label='Predicted Value')\n",
    "plt.title('Actual Vs Predicted')\n",
    "plt.xlabel('Number of values')\n",
    "plt.ylabel('GLD Prices')\n",
    "plt.legend()\n",
    "plt.show()"
   ]
  },
  {
   "cell_type": "code",
   "execution_count": null,
   "id": "interracial-courage",
   "metadata": {},
   "outputs": [],
   "source": []
  }
 ],
 "metadata": {
  "kernelspec": {
   "display_name": "Python 3",
   "language": "python",
   "name": "python3"
  },
  "language_info": {
   "codemirror_mode": {
    "name": "ipython",
    "version": 3
   },
   "file_extension": ".py",
   "mimetype": "text/x-python",
   "name": "python",
   "nbconvert_exporter": "python",
   "pygments_lexer": "ipython3",
   "version": "3.9.1"
  },
  "varInspector": {
   "cols": {
    "lenName": 16,
    "lenType": 16,
    "lenVar": 40
   },
   "kernels_config": {
    "python": {
     "delete_cmd_postfix": "",
     "delete_cmd_prefix": "del ",
     "library": "var_list.py",
     "varRefreshCmd": "print(var_dic_list())"
    },
    "r": {
     "delete_cmd_postfix": ") ",
     "delete_cmd_prefix": "rm(",
     "library": "var_list.r",
     "varRefreshCmd": "cat(var_dic_list()) "
    }
   },
   "types_to_exclude": [
    "module",
    "function",
    "builtin_function_or_method",
    "instance",
    "_Feature"
   ],
   "window_display": false
  }
 },
 "nbformat": 4,
 "nbformat_minor": 5
}
